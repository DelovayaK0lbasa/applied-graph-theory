{
 "cells": [
  {
   "cell_type": "markdown",
   "metadata": {},
   "source": [
    "Формулировка задачи:  \n",
    "Задача заключается в создании графа, где узлами являются сотрудники, а ребрами — отношения взаимодействия между ними (например, частота общения, уровень сотрудничества и т.д.). Оптимизация взаимодействия будет заключаться в нахождении наиболее эффективных маршрутов или узловых точек, способствующих повышению продуктивности работы команды.\n",
    "\n",
    "Признаки для решения задачи:\n",
    "1. Частота взаимодействия - сколько раз сотрудник взаимодействует с другими.\n",
    "2. Уровень сотрудничества - оценка на основе совместных проектов или задач.\n",
    "3. Удаленные/Офисные сотрудники - статус сотрудников; важно для понимания формата взаимодействия.\n",
    "4. Эффективность общения - основанная на отзывах о совместной работе или результатах.\n",
    "5. Позиция в организации - роль и уровень в иерархии, что может влиять на взаимодействие.\n",
    "\n",
    "Набор данных:\n",
    "- Список сотрудников с уникальными идентификаторами.\n",
    "- Матрица взаимодействий, в которой строки и столбцы соответствуют сотрудникам, а значения показывают уровень взаимодействия (например, от 0 до 10).\n",
    "- Дополнительные колонки с признаками: удаленный статус, позиция в компании и оценка сотрудничества."
   ]
  },
  {
   "cell_type": "markdown",
   "metadata": {},
   "source": [
    "Задача определить исполнителя для входящих задач на основе данных об их текущей нагрузке."
   ]
  },
  {
   "cell_type": "code",
   "execution_count": 22,
   "metadata": {},
   "outputs": [],
   "source": [
    "import numpy as np\n",
    "import networkx as nx"
   ]
  },
  {
   "cell_type": "code",
   "execution_count": 32,
   "metadata": {},
   "outputs": [
    {
     "name": "stdout",
     "output_type": "stream",
     "text": [
      "CEO (ID: 1)\n",
      "  Employee-0-24 (ID: 3815)\n",
      "    Employee-1-34 (ID: 8610)\n",
      "      Employee-2-14 (ID: 9021)\n",
      "  Employee-0-80 (ID: 8804)\n",
      "    Employee-1-89 (ID: 7004)\n",
      "      Employee-2-63 (ID: 4178)\n",
      "    Employee-1-76 (ID: 5063)\n",
      "      Employee-2-62 (ID: 6283)\n",
      "  Employee-0-43 (ID: 3368)\n",
      "    Employee-1-11 (ID: 8377)\n",
      "      Employee-2-18 (ID: 5387)\n",
      "    Employee-1-35 (ID: 6072)\n",
      "      Employee-2-86 (ID: 4894)\n"
     ]
    },
    {
     "data": {
      "text/plain": [
       "(None,\n",
       " {'id': 1,\n",
       "  'name': 'CEO',\n",
       "  'subordinates': [{'id': 3815,\n",
       "    'name': 'Employee-0-24',\n",
       "    'work_load': 517,\n",
       "    'subordinates': [{'id': 8610,\n",
       "      'name': 'Employee-1-34',\n",
       "      'work_load': 96,\n",
       "      'subordinates': [{'id': 9021,\n",
       "        'name': 'Employee-2-14',\n",
       "        'work_load': 268,\n",
       "        'subordinates': None}]}]},\n",
       "   {'id': 8804,\n",
       "    'name': 'Employee-0-80',\n",
       "    'work_load': 405,\n",
       "    'subordinates': [{'id': 7004,\n",
       "      'name': 'Employee-1-89',\n",
       "      'work_load': 123,\n",
       "      'subordinates': [{'id': 4178,\n",
       "        'name': 'Employee-2-63',\n",
       "        'work_load': 67,\n",
       "        'subordinates': None}]},\n",
       "     {'id': 5063,\n",
       "      'name': 'Employee-1-76',\n",
       "      'work_load': 262,\n",
       "      'subordinates': [{'id': 6283,\n",
       "        'name': 'Employee-2-62',\n",
       "        'work_load': 167,\n",
       "        'subordinates': None}]}]},\n",
       "   {'id': 3368,\n",
       "    'name': 'Employee-0-43',\n",
       "    'work_load': 550,\n",
       "    'subordinates': [{'id': 8377,\n",
       "      'name': 'Employee-1-11',\n",
       "      'work_load': 249,\n",
       "      'subordinates': [{'id': 5387,\n",
       "        'name': 'Employee-2-18',\n",
       "        'work_load': 167,\n",
       "        'subordinates': None}]},\n",
       "     {'id': 6072,\n",
       "      'name': 'Employee-1-35',\n",
       "      'work_load': 96,\n",
       "      'subordinates': [{'id': 4894,\n",
       "        'name': 'Employee-2-86',\n",
       "        'work_load': 225,\n",
       "        'subordinates': None}]}]}]})"
      ]
     },
     "execution_count": 32,
     "metadata": {},
     "output_type": "execute_result"
    }
   ],
   "source": [
    "import random\n",
    "\n",
    "# Функция для генерации структуры компании\n",
    "def generate_company_structure(levels):\n",
    "    def generate_level(level, max_employees):\n",
    "        if level >= len(levels):\n",
    "            return None\n",
    "        num_employees = random.randint(1, levels[level])\n",
    "        employees = []\n",
    "        for _ in range(num_employees):\n",
    "            employees.append({\n",
    "                \"id\": random.randint(1000, 9999),\n",
    "                \"name\": f\"Employee-{level}-{random.randint(1, 100)}\",\n",
    "                \"work_load\": np.random.randint(0, 1000 // (level + 1)),\n",
    "                \"subordinates\": generate_level(level + 1, levels[level])\n",
    "            })\n",
    "        return employees\n",
    "    \n",
    "    # Создаем главного руководителя\n",
    "    company = {\n",
    "        \"id\": 1,\n",
    "        \"name\": \"CEO\",\n",
    "        \"subordinates\": generate_level(0, levels[0])\n",
    "    }\n",
    "    \n",
    "    return company\n",
    "\n",
    "# Список максимального числа подчиненных для каждого уровня\n",
    "levels = [3, 2, 1]\n",
    "\n",
    "# Генерация структуры компании\n",
    "company_structure = generate_company_structure(levels)\n",
    "\n",
    "# Вывод структуры компании\n",
    "def print_structure(employee, level=0):\n",
    "    print(\"  \" * level + f\"{employee['name']} (ID: {employee['id']})\")\n",
    "    if employee['subordinates']:\n",
    "        for subordinate in employee['subordinates']:\n",
    "            print_structure(subordinate, level + 1)\n",
    "\n",
    "print_structure(company_structure), company_structure"
   ]
  },
  {
   "cell_type": "code",
   "execution_count": 31,
   "metadata": {},
   "outputs": [
    {
     "ename": "KeyError",
     "evalue": "'work_load'",
     "output_type": "error",
     "traceback": [
      "\u001b[1;31m---------------------------------------------------------------------------\u001b[0m",
      "\u001b[1;31mKeyError\u001b[0m                                  Traceback (most recent call last)",
      "Cell \u001b[1;32mIn[31], line 14\u001b[0m\n\u001b[0;32m     11\u001b[0m G \u001b[38;5;241m=\u001b[39m nx\u001b[38;5;241m.\u001b[39mDiGraph()\n\u001b[0;32m     13\u001b[0m \u001b[38;5;66;03m# Добавление узлов и ребер в граф\u001b[39;00m\n\u001b[1;32m---> 14\u001b[0m \u001b[43madd_nodes_edges\u001b[49m\u001b[43m(\u001b[49m\u001b[43mG\u001b[49m\u001b[43m,\u001b[49m\u001b[43m \u001b[49m\u001b[43mcompany_structure\u001b[49m\u001b[43m)\u001b[49m\n\u001b[0;32m     16\u001b[0m \u001b[38;5;66;03m# Визуализация графа\u001b[39;00m\n\u001b[0;32m     17\u001b[0m pos \u001b[38;5;241m=\u001b[39m nx\u001b[38;5;241m.\u001b[39mspring_layout(G)\n",
      "Cell \u001b[1;32mIn[31], line 7\u001b[0m, in \u001b[0;36madd_nodes_edges\u001b[1;34m(graph, employee)\u001b[0m\n\u001b[0;32m      5\u001b[0m \u001b[38;5;28;01mfor\u001b[39;00m subordinate \u001b[38;5;129;01min\u001b[39;00m employee[\u001b[38;5;124m'\u001b[39m\u001b[38;5;124msubordinates\u001b[39m\u001b[38;5;124m'\u001b[39m]:\n\u001b[0;32m      6\u001b[0m     subordinate_id \u001b[38;5;241m=\u001b[39m subordinate[\u001b[38;5;124m'\u001b[39m\u001b[38;5;124mid\u001b[39m\u001b[38;5;124m'\u001b[39m]\n\u001b[1;32m----> 7\u001b[0m     graph\u001b[38;5;241m.\u001b[39madd_edge(employee_id, subordinate_id, work_load\u001b[38;5;241m=\u001b[39m\u001b[43memployee\u001b[49m\u001b[43m[\u001b[49m\u001b[38;5;124;43m'\u001b[39;49m\u001b[38;5;124;43mwork_load\u001b[39;49m\u001b[38;5;124;43m'\u001b[39;49m\u001b[43m]\u001b[49m)\n\u001b[0;32m      8\u001b[0m     add_nodes_edges(graph, subordinate)\n",
      "\u001b[1;31mKeyError\u001b[0m: 'work_load'"
     ]
    }
   ],
   "source": [
    "def add_nodes_edges(graph, employee):\n",
    "    employee_id = employee['id']\n",
    "    graph.add_node(employee_id, label=employee['name'])\n",
    "    if employee['subordinates']:\n",
    "        for subordinate in employee['subordinates']:\n",
    "            subordinate_id = subordinate['id']\n",
    "            graph.add_edge(employee_id, subordinate_id, work_load=employee['work_load'])\n",
    "            add_nodes_edges(graph, subordinate)\n",
    "\n",
    "# Создание графа\n",
    "G = nx.DiGraph()\n",
    "\n",
    "# Добавление узлов и ребер в граф\n",
    "add_nodes_edges(G, company_structure)\n",
    "\n",
    "# Визуализация графа\n",
    "pos = nx.spring_layout(G)\n",
    "labels = nx.get_node_attributes(G, 'label')\n",
    "nx.draw(G, pos, with_labels=True, labels=labels, node_size=300, node_color=\"skyblue\", font_size=7, font_weight=\"bold\", arrows=True);"
   ]
  },
  {
   "cell_type": "code",
   "execution_count": null,
   "metadata": {},
   "outputs": [],
   "source": [
    "num_emp_level_max = [4, 4, 16, 10, 3]\n",
    "\n",
    "employees = {\n",
    "    1: 0,\n",
    "    2: 0,\n",
    "    3: 0,\n",
    "    4: 0\n",
    "}\n",
    "i = 5\n",
    "num_pred = 4\n",
    "for num in num_emp_level_max[1:]:\n",
    "    num_workers = np.random.randint(1, num)\n",
    "    workers = np.arange(i, i + num_pred * num).reshape(num_pred, num)\n",
    "    for worker in workers:\n",
    "        \n",
    "    for _ in range(num_workers):\n",
    "        workers.append(_ + i)\n",
    "    i += num_workers\n",
    "    employees"
   ]
  },
  {
   "cell_type": "code",
   "execution_count": 1,
   "metadata": {},
   "outputs": [
    {
     "name": "stdout",
     "output_type": "stream",
     "text": [
      "Синтетические данные успешно сгенерированы и сохранены в файлы 'interaction_matrix.csv' и 'employee_data.csv'.\n"
     ]
    }
   ],
   "source": [
    "import random\n",
    "import pandas as pd\n",
    "\n",
    "# Параметры\n",
    "num_employees = 10\n",
    "employee_ids = [f'E{i}' for i in range(num_employees)]\n",
    "\n",
    "# Генерация данных о взаимодействии\n",
    "interaction_matrix = pd.DataFrame(\n",
    "    index=employee_ids, \n",
    "    columns=employee_ids, \n",
    "    data=[[random.randint(0, 10) for _ in range(num_employees)] for _ in range(num_employees)]\n",
    ")\n",
    "\n",
    "# Генерация дополнительных признаков\n",
    "remote_status = [random.choice(['Remote', 'On-site']) for _ in range(num_employees)]\n",
    "positions = [random.choice(['Manager', 'Developer', 'Designer', 'Analyst']) for _ in range(num_employees)]\n",
    "collaboration_scores = [random.uniform(0, 1) for _ in range(num_employees)]\n",
    "\n",
    "# Создание итогового DataFrame\n",
    "data = pd.DataFrame({\n",
    "    'Employee ID': employee_ids,\n",
    "    'Remote Status': remote_status,\n",
    "    'Position': positions,\n",
    "    'Collaboration Score': collaboration_scores\n",
    "})\n",
    "\n",
    "# Сохранение данных\n",
    "interaction_matrix.to_csv('interaction_matrix.csv')\n",
    "data.to_csv('employee_data.csv')\n",
    "\n",
    "print(\"Синтетические данные успешно сгенерированы и сохранены в файлы 'interaction_matrix.csv' и 'employee_data.csv'.\")\n"
   ]
  },
  {
   "cell_type": "code",
   "execution_count": null,
   "metadata": {},
   "outputs": [],
   "source": []
  }
 ],
 "metadata": {
  "kernelspec": {
   "display_name": "Python 3",
   "language": "python",
   "name": "python3"
  },
  "language_info": {
   "codemirror_mode": {
    "name": "ipython",
    "version": 3
   },
   "file_extension": ".py",
   "mimetype": "text/x-python",
   "name": "python",
   "nbconvert_exporter": "python",
   "pygments_lexer": "ipython3",
   "version": "3.10.5"
  }
 },
 "nbformat": 4,
 "nbformat_minor": 2
}
