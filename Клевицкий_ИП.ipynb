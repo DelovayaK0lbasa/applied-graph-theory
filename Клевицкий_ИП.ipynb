{
 "cells": [
  {
   "cell_type": "markdown",
   "metadata": {},
   "source": [
    "Формулировка задачи:  \n",
    "Задача заключается в создании графа, где узлами являются сотрудники, а ребрами — отношения взаимодействия между ними (например, частота общения, уровень сотрудничества и т.д.). Оптимизация взаимодействия будет заключаться в нахождении наиболее эффективных маршрутов или узловых точек, способствующих повышению продуктивности работы команды.\n",
    "\n",
    "Признаки для решения задачи:\n",
    "1. Частота взаимодействия - сколько раз сотрудник взаимодействует с другими.\n",
    "2. Уровень сотрудничества - оценка на основе совместных проектов или задач.\n",
    "3. Удаленные/Офисные сотрудники - статус сотрудников; важно для понимания формата взаимодействия.\n",
    "4. Эффективность общения - основанная на отзывах о совместной работе или результатах.\n",
    "5. Позиция в организации - роль и уровень в иерархии, что может влиять на взаимодействие.\n",
    "\n",
    "Набор данных:\n",
    "- Список сотрудников с уникальными идентификаторами.\n",
    "- Матрица взаимодействий, в которой строки и столбцы соответствуют сотрудникам, а значения показывают уровень взаимодействия (например, от 0 до 10).\n",
    "- Дополнительные колонки с признаками: удаленный статус, позиция в компании и оценка сотрудничества."
   ]
  },
  {
   "cell_type": "code",
   "execution_count": 1,
   "metadata": {},
   "outputs": [
    {
     "name": "stdout",
     "output_type": "stream",
     "text": [
      "Синтетические данные успешно сгенерированы и сохранены в файлы 'interaction_matrix.csv' и 'employee_data.csv'.\n"
     ]
    }
   ],
   "source": [
    "import random\n",
    "import pandas as pd\n",
    "\n",
    "# Параметры\n",
    "num_employees = 10\n",
    "employee_ids = [f'E{i}' for i in range(num_employees)]\n",
    "\n",
    "# Генерация данных о взаимодействии\n",
    "interaction_matrix = pd.DataFrame(\n",
    "    index=employee_ids, \n",
    "    columns=employee_ids, \n",
    "    data=[[random.randint(0, 10) for _ in range(num_employees)] for _ in range(num_employees)]\n",
    ")\n",
    "\n",
    "# Генерация дополнительных признаков\n",
    "remote_status = [random.choice(['Remote', 'On-site']) for _ in range(num_employees)]\n",
    "positions = [random.choice(['Manager', 'Developer', 'Designer', 'Analyst']) for _ in range(num_employees)]\n",
    "collaboration_scores = [random.uniform(0, 1) for _ in range(num_employees)]\n",
    "\n",
    "# Создание итогового DataFrame\n",
    "data = pd.DataFrame({\n",
    "    'Employee ID': employee_ids,\n",
    "    'Remote Status': remote_status,\n",
    "    'Position': positions,\n",
    "    'Collaboration Score': collaboration_scores\n",
    "})\n",
    "\n",
    "# Сохранение данных\n",
    "interaction_matrix.to_csv('interaction_matrix.csv')\n",
    "data.to_csv('employee_data.csv')\n",
    "\n",
    "print(\"Синтетические данные успешно сгенерированы и сохранены в файлы 'interaction_matrix.csv' и 'employee_data.csv'.\")\n"
   ]
  },
  {
   "cell_type": "code",
   "execution_count": null,
   "metadata": {},
   "outputs": [],
   "source": []
  }
 ],
 "metadata": {
  "kernelspec": {
   "display_name": "Python 3",
   "language": "python",
   "name": "python3"
  },
  "language_info": {
   "codemirror_mode": {
    "name": "ipython",
    "version": 3
   },
   "file_extension": ".py",
   "mimetype": "text/x-python",
   "name": "python",
   "nbconvert_exporter": "python",
   "pygments_lexer": "ipython3",
   "version": "3.9.7"
  }
 },
 "nbformat": 4,
 "nbformat_minor": 2
}
